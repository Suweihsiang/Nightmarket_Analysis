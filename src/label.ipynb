{
 "cells": [
  {
   "cell_type": "code",
   "execution_count": null,
   "id": "1e7a9fa4",
   "metadata": {},
   "outputs": [],
   "source": [
    "from pyspark.sql import SparkSession\n",
    "from pyspark.sql.functions import lit"
   ]
  },
  {
   "cell_type": "code",
   "execution_count": null,
   "id": "1d8367a3",
   "metadata": {},
   "outputs": [],
   "source": [
    "spark = SparkSession.builder.getOrCreate()"
   ]
  },
  {
   "cell_type": "code",
   "execution_count": null,
   "id": "ea5e76d8-4d7e-4e86-b78f-59fe63d71fd4",
   "metadata": {},
   "outputs": [],
   "source": [
    "df_water = spark.read.parquet(\"hdfs://namenode:9000/workspace/output/water_army/water_army.parquet\")"
   ]
  },
  {
   "cell_type": "code",
   "execution_count": null,
   "id": "6fcb58f7-890f-4304-b1a2-66f8949d4b28",
   "metadata": {},
   "outputs": [],
   "source": [
    "df_water_label = df_water.withColumn(\"label\",lit(1))"
   ]
  },
  {
   "cell_type": "code",
   "execution_count": null,
   "id": "3a00ac39-c6c0-4b31-a275-d2d90f421442",
   "metadata": {},
   "outputs": [],
   "source": [
    "df_normal = spark.read.parquet(\"hdfs://namenode:9000/workspace/output/normal/normal_comment.parquet\")"
   ]
  },
  {
   "cell_type": "code",
   "execution_count": null,
   "id": "9401bd6f-2d04-4cc3-9bba-0c8d0b41ac2a",
   "metadata": {},
   "outputs": [],
   "source": [
    "df_normal_label = df_normal.withColumn(\"label\",lit(0))"
   ]
  },
  {
   "cell_type": "code",
   "execution_count": null,
   "id": "8ffe846a-f8ec-4cad-9894-f35a9c460466",
   "metadata": {},
   "outputs": [],
   "source": [
    "df_normal_label.write.mode(\"overwrite\").parquet(\"hdfs://namenode:9000/workspace/output/normal/normal_comment_label\")"
   ]
  },
  {
   "cell_type": "code",
   "execution_count": null,
   "id": "4442da64-75c2-4ddd-b41c-b60396178743",
   "metadata": {},
   "outputs": [],
   "source": [
    "df_water_label.write.mode(\"overwrite\").parquet(\"hdfs://namenode:9000/workspace/output/water_army/water_army_label\")"
   ]
  },
  {
   "cell_type": "code",
   "execution_count": null,
   "id": "044adcb7-4d46-47c5-b49f-2a411d380561",
   "metadata": {},
   "outputs": [],
   "source": [
    "spark.stop()"
   ]
  }
 ],
 "metadata": {
  "kernelspec": {
   "display_name": "Python 3 (ipykernel)",
   "language": "python",
   "name": "python3"
  },
  "language_info": {
   "codemirror_mode": {
    "name": "ipython",
    "version": 3
   },
   "file_extension": ".py",
   "mimetype": "text/x-python",
   "name": "python",
   "nbconvert_exporter": "python",
   "pygments_lexer": "ipython3",
   "version": "3.9.2"
  }
 },
 "nbformat": 4,
 "nbformat_minor": 5
}
